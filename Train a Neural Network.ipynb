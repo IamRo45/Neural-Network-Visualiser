{
 "cells": [
  {
   "cell_type": "markdown",
   "metadata": {},
   "source": [
    "# Import Libraries"
   ]
  },
  {
   "cell_type": "code",
   "execution_count": 2,
   "metadata": {},
   "outputs": [],
   "source": [
    "%matplotlib inline\n",
    "\n",
    "import tensorflow as tf\n",
    "import numpy as np\n",
    "import matplotlib.pyplot as plt"
   ]
  },
  {
   "cell_type": "markdown",
   "metadata": {},
   "source": [
    "# Download Data"
   ]
  },
  {
   "cell_type": "code",
   "execution_count": 3,
   "metadata": {},
   "outputs": [],
   "source": [
    "(x_train, y_train), (x_test, y_test) = tf.keras.datasets.mnist.load_data()"
   ]
  },
  {
   "cell_type": "markdown",
   "metadata": {},
   "source": [
    "# Plot Examples"
   ]
  },
  {
   "cell_type": "code",
   "execution_count": 4,
   "metadata": {},
   "outputs": [
    {
     "data": {
      "image/png": "[encoded data removed]",
      "text/plain": [
       "<Figure size 720x720 with 16 Axes>"
      ]
     },
     "metadata": {},
     "output_type": "display_data"
    }
   ],
   "source": [
    "plt.figure(figsize=(10, 10))\n",
    "\n",
    "for i in range(16):\n",
    "    plt.subplot(4, 4, i + 1)\n",
    "    plt.imshow(x_train[i], cmap='binary')\n",
    "    plt.xlabel(str(y_train[i]))\n",
    "    plt.xticks([])\n",
    "    plt.yticks([])\n",
    "plt.show()"
   ]
  },
  {
   "cell_type": "markdown",
   "metadata": {},
   "source": [
    "# Normalize Data"
   ]
  },
  {
   "cell_type": "code",
   "execution_count": 5,
   "metadata": {},
   "outputs": [],
   "source": [
    "x_train = np.reshape(x_train, (60000, 784))\n",
    "x_train = x_train / 255.\n",
    "\n",
    "x_test = np.reshape(x_test, (10000, 784))\n",
    "x_test = x_test / 255."
   ]
  },
  {
   "cell_type": "markdown",
   "metadata": {},
   "source": [
    "# Create a Neural Network Model"
   ]
  },
  {
   "cell_type": "code",
   "execution_count": 6,
   "metadata": {},
   "outputs": [
    {
     "name": "stdout",
     "output_type": "stream",
     "text": [
      "WARNING:tensorflow:From /home/rohit/.local/lib/python2.7/site-packages/tensorflow/python/ops/init_ops.py:1251: calling __init__ (from tensorflow.python.ops.init_ops) with dtype is deprecated and will be removed in a future version.\n",
      "Instructions for updating:\n",
      "Call initializer instance with the dtype argument instead of passing it to the constructor\n"
     ]
    }
   ],
   "source": [
    "model = tf.keras.models.Sequential([\n",
    "    tf.keras.layers.Dense(32, activation='sigmoid', input_shape=(784,)),\n",
    "    tf.keras.layers.Dense(32, activation='sigmoid'),\n",
    "    tf.keras.layers.Dense(10, activation='softmax')\n",
    "])\n",
    "\n",
    "model.compile(loss='sparse_categorical_crossentropy', optimizer='adam', metrics=['accuracy'])"
   ]
  },
  {
   "cell_type": "markdown",
   "metadata": {},
   "source": [
    "# Train the Model"
   ]
  },
  {
   "cell_type": "code",
   "execution_count": 7,
   "metadata": {},
   "outputs": [
    {
     "name": "stdout",
     "output_type": "stream",
     "text": [
      "Train on 60000 samples, validate on 10000 samples\n",
      "Epoch 1/20\n",
      "60000/60000 - 2s - loss: 2.2345 - acc: 0.3249 - val_loss: 2.0350 - val_acc: 0.5413\n",
      "Epoch 2/20\n",
      "60000/60000 - 1s - loss: 1.8582 - acc: 0.6071 - val_loss: 1.6626 - val_acc: 0.6566\n",
      "Epoch 3/20\n",
      "60000/60000 - 1s - loss: 1.4886 - acc: 0.7027 - val_loss: 1.3109 - val_acc: 0.7616\n",
      "Epoch 4/20\n",
      "60000/60000 - 1s - loss: 1.1709 - acc: 0.7875 - val_loss: 1.0305 - val_acc: 0.8196\n",
      "Epoch 5/20\n",
      "60000/60000 - 1s - loss: 0.9280 - acc: 0.8333 - val_loss: 0.8234 - val_acc: 0.8553\n",
      "Epoch 6/20\n",
      "60000/60000 - 1s - loss: 0.7509 - acc: 0.8601 - val_loss: 0.6732 - val_acc: 0.8754\n",
      "Epoch 7/20\n",
      "60000/60000 - 1s - loss: 0.6237 - acc: 0.8777 - val_loss: 0.5670 - val_acc: 0.8871\n",
      "Epoch 8/20\n",
      "60000/60000 - 1s - loss: 0.5325 - acc: 0.8900 - val_loss: 0.4900 - val_acc: 0.8986\n",
      "Epoch 9/20\n",
      "60000/60000 - 1s - loss: 0.4668 - acc: 0.8974 - val_loss: 0.4346 - val_acc: 0.9039\n",
      "Epoch 10/20\n",
      "60000/60000 - 1s - loss: 0.4184 - acc: 0.9043 - val_loss: 0.3931 - val_acc: 0.9090\n",
      "Epoch 11/20\n",
      "60000/60000 - 1s - loss: 0.3814 - acc: 0.9096 - val_loss: 0.3611 - val_acc: 0.9122\n",
      "Epoch 12/20\n",
      "60000/60000 - 1s - loss: 0.3522 - acc: 0.9138 - val_loss: 0.3364 - val_acc: 0.9170\n",
      "Epoch 13/20\n",
      "60000/60000 - 1s - loss: 0.3285 - acc: 0.9178 - val_loss: 0.3159 - val_acc: 0.9190\n",
      "Epoch 14/20\n",
      "60000/60000 - 1s - loss: 0.3089 - acc: 0.9215 - val_loss: 0.2985 - val_acc: 0.9226\n",
      "Epoch 15/20\n",
      "60000/60000 - 1s - loss: 0.2926 - acc: 0.9240 - val_loss: 0.2848 - val_acc: 0.9245\n",
      "Epoch 16/20\n",
      "60000/60000 - 1s - loss: 0.2782 - acc: 0.9271 - val_loss: 0.2726 - val_acc: 0.9268\n",
      "Epoch 17/20\n",
      "60000/60000 - 1s - loss: 0.2656 - acc: 0.9299 - val_loss: 0.2617 - val_acc: 0.9292\n",
      "Epoch 18/20\n",
      "60000/60000 - 1s - loss: 0.2543 - acc: 0.9327 - val_loss: 0.2529 - val_acc: 0.9319\n",
      "Epoch 19/20\n",
      "60000/60000 - 1s - loss: 0.2446 - acc: 0.9347 - val_loss: 0.2433 - val_acc: 0.9338\n",
      "Epoch 20/20\n",
      "60000/60000 - 1s - loss: 0.2355 - acc: 0.9367 - val_loss: 0.2360 - val_acc: 0.9367\n"
     ]
    }
   ],
   "source": [
    "_ = model.fit(\n",
    "    x_train, y_train,\n",
    "    validation_data=(x_test, y_test),\n",
    "    epochs=20, batch_size=1024,\n",
    "    verbose=2\n",
    ")"
   ]
  },
  {
   "cell_type": "markdown",
   "metadata": {},
   "source": [
    "# Save the Model"
   ]
  },
  {
   "cell_type": "code",
   "execution_count": 8,
   "metadata": {},
   "outputs": [],
   "source": [
    "model.save('model.h5')"
   ]
  },
  {
   "cell_type": "code",
   "execution_count": null,
   "metadata": {},
   "outputs": [],
   "source": []
  }
 ],
 "metadata": {
  "kernelspec": {
   "display_name": "Python 2",
   "language": "python",
   "name": "python2"
  },
  "language_info": {
   "codemirror_mode": {
    "name": "ipython",
    "version": 2
   },
   "file_extension": ".py",
   "mimetype": "text/x-python",
   "name": "python",
   "nbconvert_exporter": "python",
   "pygments_lexer": "ipython2",
   "version": "2.7.17"
  }
 },
 "nbformat": 4,
 "nbformat_minor": 2
}
